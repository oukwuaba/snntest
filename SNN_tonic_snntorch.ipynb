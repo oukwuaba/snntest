{
 "cells": [
  {
   "cell_type": "markdown",
   "id": "acd58ae2",
   "metadata": {},
   "source": [
    "# SNN Base Models Tonic + snnTorch\n",
    "This notebook demonstrates:\n",
    "- **NMNIST** with an MLP-style SNN\n",
    "- **DVSGesture** with a 3-layer **Convolutional SNN**\n",
    "\n",
    "> Make sure you have `torch`, `snntorch`, `tonic`, and `numpy` installed.\n"
   ]
  },
  {
   "cell_type": "code",
   "execution_count": 4,
   "id": "2250ba95",
   "metadata": {},
   "outputs": [
    {
     "name": "stderr",
     "output_type": "stream",
     "text": [
      "  WARNING: The script pbr.exe is installed in 'C:\\Users\\ou1684\\AppData\\Roaming\\Python\\Python39\\Scripts' which is not on PATH.\n",
      "  Consider adding this directory to PATH or, if you prefer to suppress this warning, use --no-warn-script-location.\n"
     ]
    }
   ],
   "source": [
    "!pip install snntorch tonic --q"
   ]
  },
  {
   "cell_type": "code",
   "execution_count": 5,
   "id": "11325793",
   "metadata": {},
   "outputs": [
    {
     "name": "stdout",
     "output_type": "stream",
     "text": [
      "Torch: 2.7.1+cu128\n",
      "CUDA available: True\n"
     ]
    },
    {
     "data": {
      "text/plain": [
       "device(type='cuda')"
      ]
     },
     "execution_count": 5,
     "metadata": {},
     "output_type": "execute_result"
    }
   ],
   "source": [
    "\n",
    "import sys, os, torch, numpy as np\n",
    "print(\"Torch:\", torch.__version__)\n",
    "print(\"CUDA available:\", torch.cuda.is_available())\n",
    "device = torch.device(\"cuda\" if torch.cuda.is_available() else \"cpu\")\n",
    "device\n"
   ]
  },
  {
   "cell_type": "code",
   "execution_count": 6,
   "id": "4491e4d5",
   "metadata": {},
   "outputs": [],
   "source": [
    "\n",
    "# Install paths so we can import the helper scripts created for CLI\n",
    "import sys\n",
    "sys.path.append('/mnt/data/scripts')\n",
    "from nmnist import MLPNet, load_nmnist, collate_fn as collate_nmnist\n",
    "from dvs_conv3 import ConvSNN, load_dvs, collate_fn as collate_dvs\n",
    "import torch\n",
    "from torch.utils.data import DataLoader\n",
    "import tonic\n",
    "from tonic.transforms import ToFrame\n",
    "import snntorch as snn\n"
   ]
  },
  {
   "cell_type": "markdown",
   "id": "349e2d74",
   "metadata": {},
   "source": [
    "## NMNIST — SNN"
   ]
  },
  {
   "cell_type": "code",
   "execution_count": null,
   "id": "0fcfb747",
   "metadata": {},
   "outputs": [],
   "source": [
    "\n",
    "# Params\n",
    "save_to = \"./data\"\n",
    "num_steps = 25\n",
    "batch_size = 64\n",
    "\n",
    "# Data\n",
    "testset = load_nmnist(save_to, num_steps, split=\"test\")\n",
    "testloader = DataLoader(testset, batch_size=batch_size, shuffle=False, collate_fn=collate_nmnist)\n",
    "\n",
    "# Model\n",
    "C, H, W = 2, 34, 34\n",
    "in_dim = C*H*W\n",
    "net = MLPNet(in_dim=in_dim, hidden=300, out_dim=10).to(device)\n",
    "net.eval()\n",
    "\n",
    "# Eval\n",
    "def eval_model(model, loader, device, num_steps):\n",
    "    model.eval()\n",
    "    correct, total = 0, 0\n",
    "    with torch.no_grad():\n",
    "        for x, y in loader:\n",
    "            x, y = x.to(device), y.to(device)\n",
    "            spk, _ = model(x, num_steps)\n",
    "            votes = spk.sum(dim=0)\n",
    "            pred = votes.argmax(dim=1)\n",
    "            correct += (pred == y).sum().item()\n",
    "            total += y.numel()\n",
    "    return correct / max(1, total)\n",
    "\n",
    "acc = eval_model(net, testloader, device, num_steps)\n",
    "acc\n"
   ]
  },
  {
   "cell_type": "markdown",
   "id": "50a62c23",
   "metadata": {},
   "source": [
    "## DVSGesture — 3-layer Conv SNN"
   ]
  },
  {
   "cell_type": "code",
   "execution_count": null,
   "id": "37402a57",
   "metadata": {},
   "outputs": [],
   "source": [
    "\n",
    "# Params\n",
    "save_to = \"./data\"\n",
    "num_steps = 25\n",
    "batch_size = 4\n",
    "resize = 64\n",
    "\n",
    "# Data\n",
    "testset = load_dvs(save_to, num_steps, split=\"test\", resize=resize)\n",
    "testloader = DataLoader(testset, batch_size=batch_size, shuffle=False, collate_fn=collate_dvs)\n",
    "\n",
    "# Model\n",
    "net = ConvSNN(in_channels=2, img_size=resize).to(device)\n",
    "net.eval()\n",
    "\n",
    "# Eval\n",
    "acc = eval_model(net, testloader, device, num_steps)\n",
    "acc\n"
   ]
  }
 ],
 "metadata": {
  "kernelspec": {
   "display_name": "Python 3 (ipykernel)",
   "language": "python",
   "name": "python3"
  },
  "language_info": {
   "codemirror_mode": {
    "name": "ipython",
    "version": 3
   },
   "file_extension": ".py",
   "mimetype": "text/x-python",
   "name": "python",
   "nbconvert_exporter": "python",
   "pygments_lexer": "ipython3",
   "version": "3.9.12"
  }
 },
 "nbformat": 4,
 "nbformat_minor": 5
}
